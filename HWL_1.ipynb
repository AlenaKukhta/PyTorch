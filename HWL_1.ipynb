{
 "cells": [
  {
   "cell_type": "markdown",
   "metadata": {},
   "source": [
    "# Практическое задание к уроку 1. Основные понятия и структуры PyTorch"
   ]
  },
  {
   "cell_type": "code",
   "execution_count": 1,
   "metadata": {},
   "outputs": [],
   "source": [
    "# !pip install torch torchvision"
   ]
  },
  {
   "cell_type": "code",
   "execution_count": 2,
   "metadata": {},
   "outputs": [],
   "source": [
    "import numpy as np\n",
    "import torch\n",
    "# import torchvision\n",
    "from torch import nn #nn - формирование вычислительных графов для слоев нейронных сетей. TensorFlow: Keras\n",
    "from torch import optim #optim - алгоритмы оптимизации (SGD, Adam и т.д.). TensorFlow: модуль optimizers\n",
    "from torch.autograd import Variable"
   ]
  },
  {
   "cell_type": "markdown",
   "metadata": {},
   "source": [
    "### 1. Создайте случайный FloatTensor размера 3x4x5"
   ]
  },
  {
   "cell_type": "code",
   "execution_count": 3,
   "metadata": {},
   "outputs": [
    {
     "data": {
      "text/plain": [
       "tensor([[[1., 1., 1., 1., 1.],\n",
       "         [2., 2., 2., 2., 2.],\n",
       "         [3., 3., 3., 3., 3.],\n",
       "         [4., 4., 4., 4., 4.]],\n",
       "\n",
       "        [[1., 1., 1., 1., 1.],\n",
       "         [2., 2., 2., 2., 2.],\n",
       "         [3., 3., 3., 3., 3.],\n",
       "         [4., 4., 4., 4., 4.]],\n",
       "\n",
       "        [[1., 1., 1., 1., 1.],\n",
       "         [2., 2., 2., 2., 2.],\n",
       "         [3., 3., 3., 3., 3.],\n",
       "         [4., 4., 4., 4., 4.]]])"
      ]
     },
     "execution_count": 3,
     "metadata": {},
     "output_type": "execute_result"
    }
   ],
   "source": [
    "# вариант 1\n",
    "\n",
    "x = torch.FloatTensor([[[1, 1, 1, 1, 1], [2, 2, 2, 2, 2], [3, 3, 3, 3, 3], [4, 4, 4, 4, 4]],\n",
    "                       [[1, 1, 1, 1, 1], [2, 2, 2, 2, 2], [3, 3, 3, 3, 3], [4, 4, 4, 4, 4]],\n",
    "                       [[1, 1, 1, 1, 1], [2, 2, 2, 2, 2], [3, 3, 3, 3, 3], [4, 4, 4, 4, 4]]])\n",
    "x"
   ]
  },
  {
   "cell_type": "code",
   "execution_count": 4,
   "metadata": {},
   "outputs": [
    {
     "name": "stdout",
     "output_type": "stream",
     "text": [
      "tensor([[[0.4639, 0.3992, 0.5323, 0.9207, 0.5304],\n",
      "         [0.3132, 0.8914, 0.2945, 0.5645, 0.8110],\n",
      "         [0.4865, 0.8664, 0.4768, 0.7753, 0.0780],\n",
      "         [0.6542, 0.0685, 0.1540, 0.8343, 0.3459]],\n",
      "\n",
      "        [[0.3281, 0.2829, 0.5981, 0.8451, 0.7027],\n",
      "         [0.8207, 0.0132, 0.5897, 0.1284, 0.8245],\n",
      "         [0.3422, 0.0375, 0.4094, 0.1805, 0.2320],\n",
      "         [0.1921, 0.1500, 0.2696, 0.1311, 0.4027]],\n",
      "\n",
      "        [[0.7043, 0.6655, 0.6160, 0.3809, 0.9860],\n",
      "         [0.6213, 0.7236, 0.1637, 0.6935, 0.8655],\n",
      "         [0.4691, 0.6160, 0.2454, 0.3194, 0.9768],\n",
      "         [0.4259, 0.8625, 0.3071, 0.2445, 0.3290]]])\n"
     ]
    }
   ],
   "source": [
    "# вариант 2\n",
    "\n",
    "tensor = torch\\\n",
    "  .rand(3, 4, 5)\\\n",
    "  .type(torch.float32)\n",
    "\n",
    "print(tensor)"
   ]
  },
  {
   "cell_type": "markdown",
   "metadata": {},
   "source": [
    "### Выведите его форму (shape)"
   ]
  },
  {
   "cell_type": "code",
   "execution_count": 5,
   "metadata": {},
   "outputs": [
    {
     "data": {
      "text/plain": [
       "torch.Size([3, 4, 5])"
      ]
     },
     "execution_count": 5,
     "metadata": {},
     "output_type": "execute_result"
    }
   ],
   "source": [
    "# вариант 1\n",
    "\n",
    "x.shape"
   ]
  },
  {
   "cell_type": "code",
   "execution_count": 6,
   "metadata": {},
   "outputs": [
    {
     "data": {
      "text/plain": [
       "torch.Size([3, 4, 5])"
      ]
     },
     "execution_count": 6,
     "metadata": {},
     "output_type": "execute_result"
    }
   ],
   "source": [
    "# вариант 2\n",
    "\n",
    "tensor.shape"
   ]
  },
  {
   "cell_type": "markdown",
   "metadata": {},
   "source": [
    "### Приведите его к форме 6 X 10"
   ]
  },
  {
   "cell_type": "code",
   "execution_count": 7,
   "metadata": {},
   "outputs": [
    {
     "data": {
      "text/plain": [
       "tensor([[1., 1., 1., 1., 1., 2., 2., 2., 2., 2.],\n",
       "        [3., 3., 3., 3., 3., 4., 4., 4., 4., 4.],\n",
       "        [1., 1., 1., 1., 1., 2., 2., 2., 2., 2.],\n",
       "        [3., 3., 3., 3., 3., 4., 4., 4., 4., 4.],\n",
       "        [1., 1., 1., 1., 1., 2., 2., 2., 2., 2.],\n",
       "        [3., 3., 3., 3., 3., 4., 4., 4., 4., 4.]])"
      ]
     },
     "execution_count": 7,
     "metadata": {},
     "output_type": "execute_result"
    }
   ],
   "source": [
    "# вариант 1\n",
    "\n",
    "x = x.view(-1, 10)\n",
    "x"
   ]
  },
  {
   "cell_type": "code",
   "execution_count": 8,
   "metadata": {},
   "outputs": [
    {
     "name": "stdout",
     "output_type": "stream",
     "text": [
      "tensor([[0.4639, 0.3992, 0.5323, 0.9207, 0.5304, 0.3132, 0.8914, 0.2945, 0.5645,\n",
      "         0.8110],\n",
      "        [0.4865, 0.8664, 0.4768, 0.7753, 0.0780, 0.6542, 0.0685, 0.1540, 0.8343,\n",
      "         0.3459],\n",
      "        [0.3281, 0.2829, 0.5981, 0.8451, 0.7027, 0.8207, 0.0132, 0.5897, 0.1284,\n",
      "         0.8245],\n",
      "        [0.3422, 0.0375, 0.4094, 0.1805, 0.2320, 0.1921, 0.1500, 0.2696, 0.1311,\n",
      "         0.4027],\n",
      "        [0.7043, 0.6655, 0.6160, 0.3809, 0.9860, 0.6213, 0.7236, 0.1637, 0.6935,\n",
      "         0.8655],\n",
      "        [0.4691, 0.6160, 0.2454, 0.3194, 0.9768, 0.4259, 0.8625, 0.3071, 0.2445,\n",
      "         0.3290]])\n"
     ]
    }
   ],
   "source": [
    "# вариант 2\n",
    "\n",
    "print(tensor.view(6, 10))"
   ]
  },
  {
   "cell_type": "markdown",
   "metadata": {},
   "source": [
    "### Умножьте его на вектор [1, 4, 2, 2, 1] поэлементно"
   ]
  },
  {
   "cell_type": "code",
   "execution_count": 9,
   "metadata": {},
   "outputs": [
    {
     "data": {
      "text/plain": [
       "tensor([[ 1.,  4.,  2.,  2.,  1.,  2.,  8.,  4.,  4.,  2.],\n",
       "        [ 3., 12.,  6.,  6.,  3.,  4., 16.,  8.,  8.,  4.],\n",
       "        [ 1.,  4.,  2.,  2.,  1.,  2.,  8.,  4.,  4.,  2.],\n",
       "        [ 3., 12.,  6.,  6.,  3.,  4., 16.,  8.,  8.,  4.],\n",
       "        [ 1.,  4.,  2.,  2.,  1.,  2.,  8.,  4.,  4.,  2.],\n",
       "        [ 3., 12.,  6.,  6.,  3.,  4., 16.,  8.,  8.,  4.]])"
      ]
     },
     "execution_count": 9,
     "metadata": {},
     "output_type": "execute_result"
    }
   ],
   "source": [
    "# вариант 1\n",
    "\n",
    "x * torch.FloatTensor([1, 4, 2, 2, 1, 1, 4, 2, 2, 1])"
   ]
  },
  {
   "cell_type": "code",
   "execution_count": 10,
   "metadata": {},
   "outputs": [
    {
     "data": {
      "text/plain": [
       "tensor([[[0.4639, 1.5969, 1.0646, 1.8414, 0.5304],\n",
       "         [0.3132, 3.5657, 0.5890, 1.1289, 0.8110],\n",
       "         [0.4865, 3.4658, 0.9536, 1.5505, 0.0780],\n",
       "         [0.6542, 0.2739, 0.3081, 1.6686, 0.3459]],\n",
       "\n",
       "        [[0.3281, 1.1316, 1.1963, 1.6901, 0.7027],\n",
       "         [0.8207, 0.0528, 1.1793, 0.2568, 0.8245],\n",
       "         [0.3422, 0.1500, 0.8187, 0.3610, 0.2320],\n",
       "         [0.1921, 0.6002, 0.5392, 0.2621, 0.4027]],\n",
       "\n",
       "        [[0.7043, 2.6621, 1.2320, 0.7619, 0.9860],\n",
       "         [0.6213, 2.8944, 0.3273, 1.3870, 0.8655],\n",
       "         [0.4691, 2.4641, 0.4909, 0.6388, 0.9768],\n",
       "         [0.4259, 3.4501, 0.6142, 0.4891, 0.3290]]], dtype=torch.float64)"
      ]
     },
     "execution_count": 10,
     "metadata": {},
     "output_type": "execute_result"
    }
   ],
   "source": [
    "# вариант 2\n",
    "\n",
    "tensor * torch.DoubleTensor([1, 4, 2, 2, 1])"
   ]
  },
  {
   "cell_type": "markdown",
   "metadata": {},
   "source": [
    "### Умножьте тензор матрично на себя, чтобы результат был размерности 6x6"
   ]
  },
  {
   "cell_type": "code",
   "execution_count": 11,
   "metadata": {},
   "outputs": [
    {
     "data": {
      "text/plain": [
       "tensor([[ 25.,  55.,  25.,  55.,  25.,  55.],\n",
       "        [ 55., 125.,  55., 125.,  55., 125.],\n",
       "        [ 25.,  55.,  25.,  55.,  25.,  55.],\n",
       "        [ 55., 125.,  55., 125.,  55., 125.],\n",
       "        [ 25.,  55.,  25.,  55.,  25.,  55.],\n",
       "        [ 55., 125.,  55., 125.,  55., 125.]])"
      ]
     },
     "execution_count": 11,
     "metadata": {},
     "output_type": "execute_result"
    }
   ],
   "source": [
    "# вариант 1\n",
    "\n",
    "torch.matmul(x, x.T)"
   ]
  },
  {
   "cell_type": "code",
   "execution_count": 12,
   "metadata": {},
   "outputs": [
    {
     "name": "stdout",
     "output_type": "stream",
     "text": [
      "tensor([[3.7427, 2.6433, 2.9179, 1.3547, 3.7752, 2.8039],\n",
      "        [2.6433, 3.0939, 2.4208, 0.9783, 2.9443, 1.9056],\n",
      "        [2.9179, 2.4208, 3.4711, 1.3507, 3.2211, 2.2760],\n",
      "        [1.3547, 0.9783, 1.3507, 0.6839, 1.5271, 1.0269],\n",
      "        [3.7752, 2.9443, 3.2211, 1.5271, 4.6021, 3.3697],\n",
      "        [2.8039, 1.9056, 2.2760, 1.0269, 3.3697, 2.9036]])\n"
     ]
    }
   ],
   "source": [
    "# вариант 2\n",
    "\n",
    "tensor_6_10 = tensor.view(6, 10)\n",
    "tensor_6_10_T = torch.transpose(tensor_6_10, 1, 0)\n",
    "\n",
    "result = torch.matmul(tensor_6_10, tensor_6_10_T)\n",
    "\n",
    "print(result)"
   ]
  },
  {
   "cell_type": "markdown",
   "metadata": {},
   "source": [
    "### Посчитайте производную функции y = x**3 + z - 75t в точке (1, 0.5, 2)"
   ]
  },
  {
   "cell_type": "code",
   "execution_count": 13,
   "metadata": {},
   "outputs": [
    {
     "name": "stdout",
     "output_type": "stream",
     "text": [
      "tensor([ -71.0000,  -36.6250, -124.0000])\n"
     ]
    }
   ],
   "source": [
    "# вариант 1\n",
    "\n",
    "x = Variable(torch.FloatTensor([1, 0.5, 2]), requires_grad = True)\n",
    "y = x**3 + x - 75*x\n",
    "y.backward(x)\n",
    "print(x.grad)"
   ]
  },
  {
   "cell_type": "code",
   "execution_count": 14,
   "metadata": {},
   "outputs": [
    {
     "data": {
      "text/plain": [
       "(tensor([3.]), tensor([1.]), tensor([-75.]))"
      ]
     },
     "execution_count": 14,
     "metadata": {},
     "output_type": "execute_result"
    }
   ],
   "source": [
    "# вариант 2\n",
    "\n",
    "x2 = Variable(torch.FloatTensor([1]),   requires_grad = True)\n",
    "z2 = Variable(torch.FloatTensor([0.5]), requires_grad = True)\n",
    "t2 = Variable(torch.FloatTensor([2]),   requires_grad = True)\n",
    "\n",
    "y2 = x2**3 + z2 -75*t2\n",
    "\n",
    "y2.backward([x2, z2, t2])\n",
    "\n",
    "(x2.grad, z2.grad, t2.grad)"
   ]
  },
  {
   "cell_type": "markdown",
   "metadata": {},
   "source": [
    "### Создайте единичный тензор размера 5x6"
   ]
  },
  {
   "cell_type": "code",
   "execution_count": 15,
   "metadata": {},
   "outputs": [
    {
     "data": {
      "text/plain": [
       "tensor([[1, 1, 1, 1, 1, 1],\n",
       "        [1, 1, 1, 1, 1, 1],\n",
       "        [1, 1, 1, 1, 1, 1],\n",
       "        [1, 1, 1, 1, 1, 1],\n",
       "        [1, 1, 1, 1, 1, 1]], dtype=torch.int32)"
      ]
     },
     "execution_count": 15,
     "metadata": {},
     "output_type": "execute_result"
    }
   ],
   "source": [
    "# вариант 1\n",
    "\n",
    "y = torch.IntTensor(np.ones([5, 6]))\n",
    "y"
   ]
  },
  {
   "cell_type": "code",
   "execution_count": 16,
   "metadata": {},
   "outputs": [
    {
     "name": "stdout",
     "output_type": "stream",
     "text": [
      "tensor([[1., 1., 1., 1., 1., 1.],\n",
      "        [1., 1., 1., 1., 1., 1.],\n",
      "        [1., 1., 1., 1., 1., 1.],\n",
      "        [1., 1., 1., 1., 1., 1.],\n",
      "        [1., 1., 1., 1., 1., 1.]])\n"
     ]
    }
   ],
   "source": [
    "# вариант 2\n",
    "\n",
    "ones_tensor = torch.ones((5, 6))\n",
    "\n",
    "print(ones_tensor)"
   ]
  },
  {
   "cell_type": "markdown",
   "metadata": {},
   "source": [
    "### Переведите его в формат numpy"
   ]
  },
  {
   "cell_type": "code",
   "execution_count": 17,
   "metadata": {},
   "outputs": [
    {
     "data": {
      "text/plain": [
       "array([[1, 1, 1, 1, 1, 1],\n",
       "       [1, 1, 1, 1, 1, 1],\n",
       "       [1, 1, 1, 1, 1, 1],\n",
       "       [1, 1, 1, 1, 1, 1],\n",
       "       [1, 1, 1, 1, 1, 1]], dtype=int32)"
      ]
     },
     "execution_count": 17,
     "metadata": {},
     "output_type": "execute_result"
    }
   ],
   "source": [
    "# вариант 1\n",
    "\n",
    "y.numpy()"
   ]
  },
  {
   "cell_type": "code",
   "execution_count": 18,
   "metadata": {},
   "outputs": [
    {
     "name": "stdout",
     "output_type": "stream",
     "text": [
      "[[1. 1. 1. 1. 1. 1.]\n",
      " [1. 1. 1. 1. 1. 1.]\n",
      " [1. 1. 1. 1. 1. 1.]\n",
      " [1. 1. 1. 1. 1. 1.]\n",
      " [1. 1. 1. 1. 1. 1.]]\n"
     ]
    }
   ],
   "source": [
    "# вариант 2\n",
    "\n",
    "print(ones_tensor.numpy())"
   ]
  },
  {
   "cell_type": "markdown",
   "metadata": {},
   "source": [
    "#### Возьмите функцию y = x**w1 - 2 * x**2 + 5\n",
    "\n",
    "Посчитайте"
   ]
  },
  {
   "cell_type": "code",
   "execution_count": 19,
   "metadata": {},
   "outputs": [
    {
     "name": "stdout",
     "output_type": "stream",
     "text": [
      "loss:  29.02969741821289\n"
     ]
    }
   ],
   "source": [
    "# вариант 1\n",
    "\n",
    "linear = nn.Linear(3, 3)\n",
    "y = x ** linear.weight - 2 * x ** 2 + 5\n",
    "criterion = nn.MSELoss()\n",
    "optimizer = torch.optim.SGD(linear.parameters(), lr=0.01)\n",
    "optimizer.zero_grad()\n",
    "pred = linear(y)\n",
    "loss = criterion(pred, y)\n",
    "print('loss: ', loss.item())"
   ]
  },
  {
   "cell_type": "code",
   "execution_count": 20,
   "metadata": {},
   "outputs": [],
   "source": [
    "# вариант 2\n",
    "\n",
    "x2 = torch.FloatTensor([1])\n",
    "w1 = Variable(torch.FloatTensor([1]), requires_grad=True)\n",
    "\n",
    "y2 = x2**w1 - 2*x2**2 + 5"
   ]
  },
  {
   "cell_type": "code",
   "execution_count": 21,
   "metadata": {},
   "outputs": [],
   "source": [
    "crit = nn.MSELoss()\n",
    "optimizer = optim.SGD([w1], lr=0.001)"
   ]
  },
  {
   "cell_type": "code",
   "execution_count": 22,
   "metadata": {},
   "outputs": [],
   "source": [
    "w1 = nn.Linear(1, 1, bias=False)"
   ]
  },
  {
   "cell_type": "code",
   "execution_count": 23,
   "metadata": {},
   "outputs": [
    {
     "name": "stdout",
     "output_type": "stream",
     "text": [
      "tensor(2196.7109, grad_fn=<MseLossBackward0>)\n"
     ]
    },
    {
     "name": "stderr",
     "output_type": "stream",
     "text": [
      "/Users/alenakukhta/opt/anaconda3/lib/python3.9/site-packages/torch/nn/modules/loss.py:520: UserWarning: Using a target size (torch.Size([3, 3])) that is different to the input size (torch.Size([1])). This will likely lead to incorrect results due to broadcasting. Please ensure they have the same size.\n",
      "  return F.mse_loss(input, target, reduction=self.reduction)\n"
     ]
    }
   ],
   "source": [
    "optimizer.zero_grad()\n",
    "x = torch.FloatTensor([5])\n",
    "\n",
    "pred = x ** w1(torch.FloatTensor([1])) -2 * x**2 + 5\n",
    "loss = criterion(pred, y)\n",
    "print(loss)"
   ]
  },
  {
   "cell_type": "code",
   "execution_count": 24,
   "metadata": {},
   "outputs": [],
   "source": [
    "loss.backward()\n",
    "optimizer.step()"
   ]
  },
  {
   "cell_type": "code",
   "execution_count": 25,
   "metadata": {},
   "outputs": [
    {
     "name": "stdout",
     "output_type": "stream",
     "text": [
      "tensor([-44.2114], grad_fn=<AddBackward0>)\n"
     ]
    }
   ],
   "source": [
    "print(pred)"
   ]
  },
  {
   "cell_type": "code",
   "execution_count": 26,
   "metadata": {},
   "outputs": [
    {
     "name": "stdout",
     "output_type": "stream",
     "text": [
      "Linear(in_features=1, out_features=1, bias=False)\n",
      "tensor([[-118.6955]])\n"
     ]
    }
   ],
   "source": [
    "print(w1)\n",
    "print(w1.weight.grad)"
   ]
  }
 ],
 "metadata": {
  "kernelspec": {
   "display_name": "Python 3 (ipykernel)",
   "language": "python",
   "name": "python3"
  },
  "language_info": {
   "codemirror_mode": {
    "name": "ipython",
    "version": 3
   },
   "file_extension": ".py",
   "mimetype": "text/x-python",
   "name": "python",
   "nbconvert_exporter": "python",
   "pygments_lexer": "ipython3",
   "version": "3.9.7"
  }
 },
 "nbformat": 4,
 "nbformat_minor": 4
}
