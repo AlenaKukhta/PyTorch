{
 "cells": [
  {
   "cell_type": "markdown",
   "id": "4b6f8310",
   "metadata": {},
   "source": [
    "# Практическое задание к уроку 5. Сегментация изображений\n",
    "\n",
    "Обучить GRU, LSTM для предсказания временного ряда на примере \n",
    "\n",
    "https://www.kaggle.com/c/favorita-grocery-sales-forecasting (для каждого типа продуктов)\n",
    "\n",
    "https://disk.yandex.ru/d/JRaU80rPXASR0Q"
   ]
  }
 ],
 "metadata": {
  "kernelspec": {
   "display_name": "Python 3 (ipykernel)",
   "language": "python",
   "name": "python3"
  },
  "language_info": {
   "codemirror_mode": {
    "name": "ipython",
    "version": 3
   },
   "file_extension": ".py",
   "mimetype": "text/x-python",
   "name": "python",
   "nbconvert_exporter": "python",
   "pygments_lexer": "ipython3",
   "version": "3.9.7"
  }
 },
 "nbformat": 4,
 "nbformat_minor": 5
}
