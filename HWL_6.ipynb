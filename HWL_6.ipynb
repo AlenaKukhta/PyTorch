{
 "cells": [
  {
   "cell_type": "markdown",
   "id": "f6e6ab34",
   "metadata": {},
   "source": [
    "# Практическое задание к уроку 6. Нейросети в обработке текста\n",
    "\n",
    "Самостоятельно обучить классификатор текстов на примере 20newsgroups\n",
    "\n",
    "На примере 20 newsgroups попробовать разные параметры для сверток для классификации текстов"
   ]
  },
  {
   "cell_type": "code",
   "execution_count": 1,
   "id": "61550c83",
   "metadata": {},
   "outputs": [],
   "source": [
    "import random, re, glob\n",
    "import numpy as np\n",
    "import pandas as pd\n",
    "import torch\n",
    "import torch.nn as nn\n",
    "from functools import lru_cache\n",
    "from tqdm.notebook import tqdm"
   ]
  },
  {
   "cell_type": "code",
   "execution_count": 2,
   "id": "84ddc6aa",
   "metadata": {},
   "outputs": [],
   "source": [
    "fields = ['newsgroup', 'document_id', 'from', 'subject', 'archive-name', 'last-modified']\n",
    "\n",
    "def parse_file(path):\n",
    "    path = path.replace('\\\\', '/')\n",
    "    newsgroup=path.rsplit('/', 1)[1].rsplit('.', 1)[0]\n",
    "    print(f\"Читаем {path}, newsgroup {newsgroup}\")\n",
    "    res = []\n",
    "    header=False\n",
    "    with open(path, 'r') as fd:\n",
    "        for line in fd:\n",
    "            m = re.match(fr\"({'|'.join(fields)}):\\s*(\\S.*)\", line, re.I)\n",
    "            if m:\n",
    "                if not header:\n",
    "                    res.append({ 'text': '', **dict((f, '') for f in fields) })\n",
    "                    res[-1]['newsgroup'] = newsgroup\n",
    "                    header = True\n",
    "                res[-1][m.group(1).lower()] = m.group(2)\n",
    "            else:\n",
    "                if header:\n",
    "                    if line.strip() and not re.match(fr\"[\\w\\-]+:.*\", line, re.I):\n",
    "                        header = False\n",
    "                if not header:\n",
    "                    res[-1]['text'] += line\n",
    "    return res\n",
    "\n",
    "@lru_cache()\n",
    "def parse_directory(path):\n",
    "    return pd.DataFrame([ r for f in glob.glob(path + '/*.txt') for r in parse_file(f) ])"
   ]
  },
  {
   "cell_type": "code",
   "execution_count": 3,
   "id": "269c9711",
   "metadata": {},
   "outputs": [
    {
     "name": "stdout",
     "output_type": "stream",
     "text": [
      "Requirement already satisfied: pip in /Users/alenakukhta/opt/anaconda3/lib/python3.9/site-packages (22.0.4)\r\n"
     ]
    }
   ],
   "source": [
    "!pip install --upgrade pip"
   ]
  },
  {
   "cell_type": "code",
   "execution_count": 4,
   "id": "d6e11e8c",
   "metadata": {},
   "outputs": [
    {
     "name": "stdout",
     "output_type": "stream",
     "text": [
      "Requirement already satisfied: stop-words in /Users/alenakukhta/opt/anaconda3/lib/python3.9/site-packages (2018.7.23)\r\n"
     ]
    }
   ],
   "source": [
    "!pip install stop-words"
   ]
  },
  {
   "cell_type": "code",
   "execution_count": 5,
   "id": "8b401360",
   "metadata": {},
   "outputs": [
    {
     "name": "stdout",
     "output_type": "stream",
     "text": [
      "Requirement already satisfied: pymorphy2 in /Users/alenakukhta/opt/anaconda3/lib/python3.9/site-packages (0.9.1)\r\n",
      "Requirement already satisfied: pymorphy2-dicts-ru<3.0,>=2.4 in /Users/alenakukhta/opt/anaconda3/lib/python3.9/site-packages (from pymorphy2) (2.4.417127.4579844)\r\n",
      "Requirement already satisfied: dawg-python>=0.7.1 in /Users/alenakukhta/opt/anaconda3/lib/python3.9/site-packages (from pymorphy2) (0.7.2)\r\n",
      "Requirement already satisfied: docopt>=0.6 in /Users/alenakukhta/opt/anaconda3/lib/python3.9/site-packages (from pymorphy2) (0.6.2)\r\n"
     ]
    }
   ],
   "source": [
    "!pip install pymorphy2"
   ]
  },
  {
   "cell_type": "code",
   "execution_count": 6,
   "id": "5121057c",
   "metadata": {},
   "outputs": [
    {
     "name": "stdout",
     "output_type": "stream",
     "text": [
      "Requirement already satisfied: torch.utils in /Users/alenakukhta/opt/anaconda3/lib/python3.9/site-packages (0.1.2)\r\n",
      "Requirement already satisfied: torch in /Users/alenakukhta/opt/anaconda3/lib/python3.9/site-packages (from torch.utils) (1.10.2)\r\n",
      "Requirement already satisfied: typing-extensions in /Users/alenakukhta/opt/anaconda3/lib/python3.9/site-packages (from torch->torch.utils) (3.10.0.2)\r\n"
     ]
    }
   ],
   "source": [
    "!pip install torch.utils #.data"
   ]
  },
  {
   "cell_type": "code",
   "execution_count": 11,
   "id": "d2276e3e",
   "metadata": {},
   "outputs": [],
   "source": [
    "from sklearn.datasets import fetch_20newsgroups"
   ]
  },
  {
   "cell_type": "code",
   "execution_count": 8,
   "id": "42f1ce90",
   "metadata": {},
   "outputs": [],
   "source": [
    "from torch.utils.data import DataLoader, Dataset"
   ]
  },
  {
   "cell_type": "code",
   "execution_count": 12,
   "id": "68286d36",
   "metadata": {},
   "outputs": [
    {
     "ename": "KeyError",
     "evalue": "'newsgroup'",
     "output_type": "error",
     "traceback": [
      "\u001b[0;31m---------------------------------------------------------------------------\u001b[0m",
      "\u001b[0;31mKeyError\u001b[0m                                  Traceback (most recent call last)",
      "\u001b[0;32m~/opt/anaconda3/lib/python3.9/site-packages/pandas/core/indexes/base.py\u001b[0m in \u001b[0;36mget_loc\u001b[0;34m(self, key, method, tolerance)\u001b[0m\n\u001b[1;32m   3360\u001b[0m             \u001b[0;32mtry\u001b[0m\u001b[0;34m:\u001b[0m\u001b[0;34m\u001b[0m\u001b[0;34m\u001b[0m\u001b[0m\n\u001b[0;32m-> 3361\u001b[0;31m                 \u001b[0;32mreturn\u001b[0m \u001b[0mself\u001b[0m\u001b[0;34m.\u001b[0m\u001b[0m_engine\u001b[0m\u001b[0;34m.\u001b[0m\u001b[0mget_loc\u001b[0m\u001b[0;34m(\u001b[0m\u001b[0mcasted_key\u001b[0m\u001b[0;34m)\u001b[0m\u001b[0;34m\u001b[0m\u001b[0;34m\u001b[0m\u001b[0m\n\u001b[0m\u001b[1;32m   3362\u001b[0m             \u001b[0;32mexcept\u001b[0m \u001b[0mKeyError\u001b[0m \u001b[0;32mas\u001b[0m \u001b[0merr\u001b[0m\u001b[0;34m:\u001b[0m\u001b[0;34m\u001b[0m\u001b[0;34m\u001b[0m\u001b[0m\n",
      "\u001b[0;32m~/opt/anaconda3/lib/python3.9/site-packages/pandas/_libs/index.pyx\u001b[0m in \u001b[0;36mpandas._libs.index.IndexEngine.get_loc\u001b[0;34m()\u001b[0m\n",
      "\u001b[0;32m~/opt/anaconda3/lib/python3.9/site-packages/pandas/_libs/index.pyx\u001b[0m in \u001b[0;36mpandas._libs.index.IndexEngine.get_loc\u001b[0;34m()\u001b[0m\n",
      "\u001b[0;32mpandas/_libs/hashtable_class_helper.pxi\u001b[0m in \u001b[0;36mpandas._libs.hashtable.PyObjectHashTable.get_item\u001b[0;34m()\u001b[0m\n",
      "\u001b[0;32mpandas/_libs/hashtable_class_helper.pxi\u001b[0m in \u001b[0;36mpandas._libs.hashtable.PyObjectHashTable.get_item\u001b[0;34m()\u001b[0m\n",
      "\u001b[0;31mKeyError\u001b[0m: 'newsgroup'",
      "\nThe above exception was the direct cause of the following exception:\n",
      "\u001b[0;31mKeyError\u001b[0m                                  Traceback (most recent call last)",
      "\u001b[0;32m/var/folders/64/g6jhnpm16ql1vgrrbrbd_yd00000gn/T/ipykernel_1964/452400728.py\u001b[0m in \u001b[0;36m<module>\u001b[0;34m\u001b[0m\n\u001b[1;32m     52\u001b[0m         \u001b[0;32mreturn\u001b[0m \u001b[0mself\u001b[0m\u001b[0;34m.\u001b[0m\u001b[0mtexts\u001b[0m\u001b[0;34m[\u001b[0m\u001b[0midx\u001b[0m\u001b[0;34m]\u001b[0m\u001b[0;34m,\u001b[0m \u001b[0mself\u001b[0m\u001b[0;34m.\u001b[0m\u001b[0mlabels\u001b[0m\u001b[0;34m[\u001b[0m\u001b[0midx\u001b[0m\u001b[0;34m]\u001b[0m\u001b[0;34m\u001b[0m\u001b[0;34m\u001b[0m\u001b[0m\n\u001b[1;32m     53\u001b[0m \u001b[0;34m\u001b[0m\u001b[0m\n\u001b[0;32m---> 54\u001b[0;31m \u001b[0mds\u001b[0m \u001b[0;34m=\u001b[0m \u001b[0mDataset\u001b[0m\u001b[0;34m(\u001b[0m\u001b[0;34m'./20newsgroups'\u001b[0m\u001b[0;34m)\u001b[0m\u001b[0;34m\u001b[0m\u001b[0;34m\u001b[0m\u001b[0m\n\u001b[0m",
      "\u001b[0;32m/var/folders/64/g6jhnpm16ql1vgrrbrbd_yd00000gn/T/ipykernel_1964/452400728.py\u001b[0m in \u001b[0;36m__init__\u001b[0;34m(self, data_path)\u001b[0m\n\u001b[1;32m     12\u001b[0m         \u001b[0mdf\u001b[0m \u001b[0;34m=\u001b[0m \u001b[0mparse_directory\u001b[0m\u001b[0;34m(\u001b[0m\u001b[0mdata_path\u001b[0m\u001b[0;34m)\u001b[0m\u001b[0;34m\u001b[0m\u001b[0;34m\u001b[0m\u001b[0m\n\u001b[1;32m     13\u001b[0m \u001b[0;34m\u001b[0m\u001b[0m\n\u001b[0;32m---> 14\u001b[0;31m         \u001b[0mself\u001b[0m\u001b[0;34m.\u001b[0m\u001b[0mlabels_i2w\u001b[0m \u001b[0;34m=\u001b[0m \u001b[0mdf\u001b[0m\u001b[0;34m[\u001b[0m\u001b[0;34m'newsgroup'\u001b[0m\u001b[0;34m]\u001b[0m\u001b[0;34m.\u001b[0m\u001b[0munique\u001b[0m\u001b[0;34m(\u001b[0m\u001b[0;34m)\u001b[0m\u001b[0;34m\u001b[0m\u001b[0;34m\u001b[0m\u001b[0m\n\u001b[0m\u001b[1;32m     15\u001b[0m         \u001b[0mself\u001b[0m\u001b[0;34m.\u001b[0m\u001b[0mlabels_w2i\u001b[0m \u001b[0;34m=\u001b[0m \u001b[0mdict\u001b[0m\u001b[0;34m(\u001b[0m \u001b[0;34m(\u001b[0m\u001b[0mw\u001b[0m\u001b[0;34m,\u001b[0m \u001b[0mi\u001b[0m\u001b[0;34m)\u001b[0m \u001b[0;32mfor\u001b[0m \u001b[0mi\u001b[0m\u001b[0;34m,\u001b[0m \u001b[0mw\u001b[0m \u001b[0;32min\u001b[0m \u001b[0menumerate\u001b[0m\u001b[0;34m(\u001b[0m\u001b[0mself\u001b[0m\u001b[0;34m.\u001b[0m\u001b[0mlabels_i2w\u001b[0m\u001b[0;34m)\u001b[0m \u001b[0;34m)\u001b[0m\u001b[0;34m\u001b[0m\u001b[0;34m\u001b[0m\u001b[0m\n\u001b[1;32m     16\u001b[0m         \u001b[0mself\u001b[0m\u001b[0;34m.\u001b[0m\u001b[0mlabels\u001b[0m \u001b[0;34m=\u001b[0m \u001b[0mdf\u001b[0m\u001b[0;34m[\u001b[0m\u001b[0;34m'newsgroup'\u001b[0m\u001b[0;34m]\u001b[0m\u001b[0;34m.\u001b[0m\u001b[0mapply\u001b[0m\u001b[0;34m(\u001b[0m\u001b[0;32mlambda\u001b[0m \u001b[0mng\u001b[0m\u001b[0;34m:\u001b[0m \u001b[0mself\u001b[0m\u001b[0;34m.\u001b[0m\u001b[0mlabels_w2i\u001b[0m\u001b[0;34m[\u001b[0m\u001b[0mng\u001b[0m\u001b[0;34m]\u001b[0m\u001b[0;34m)\u001b[0m\u001b[0;34m.\u001b[0m\u001b[0mtolist\u001b[0m\u001b[0;34m(\u001b[0m\u001b[0;34m)\u001b[0m\u001b[0;34m\u001b[0m\u001b[0;34m\u001b[0m\u001b[0m\n",
      "\u001b[0;32m~/opt/anaconda3/lib/python3.9/site-packages/pandas/core/frame.py\u001b[0m in \u001b[0;36m__getitem__\u001b[0;34m(self, key)\u001b[0m\n\u001b[1;32m   3456\u001b[0m             \u001b[0;32mif\u001b[0m \u001b[0mself\u001b[0m\u001b[0;34m.\u001b[0m\u001b[0mcolumns\u001b[0m\u001b[0;34m.\u001b[0m\u001b[0mnlevels\u001b[0m \u001b[0;34m>\u001b[0m \u001b[0;36m1\u001b[0m\u001b[0;34m:\u001b[0m\u001b[0;34m\u001b[0m\u001b[0;34m\u001b[0m\u001b[0m\n\u001b[1;32m   3457\u001b[0m                 \u001b[0;32mreturn\u001b[0m \u001b[0mself\u001b[0m\u001b[0;34m.\u001b[0m\u001b[0m_getitem_multilevel\u001b[0m\u001b[0;34m(\u001b[0m\u001b[0mkey\u001b[0m\u001b[0;34m)\u001b[0m\u001b[0;34m\u001b[0m\u001b[0;34m\u001b[0m\u001b[0m\n\u001b[0;32m-> 3458\u001b[0;31m             \u001b[0mindexer\u001b[0m \u001b[0;34m=\u001b[0m \u001b[0mself\u001b[0m\u001b[0;34m.\u001b[0m\u001b[0mcolumns\u001b[0m\u001b[0;34m.\u001b[0m\u001b[0mget_loc\u001b[0m\u001b[0;34m(\u001b[0m\u001b[0mkey\u001b[0m\u001b[0;34m)\u001b[0m\u001b[0;34m\u001b[0m\u001b[0;34m\u001b[0m\u001b[0m\n\u001b[0m\u001b[1;32m   3459\u001b[0m             \u001b[0;32mif\u001b[0m \u001b[0mis_integer\u001b[0m\u001b[0;34m(\u001b[0m\u001b[0mindexer\u001b[0m\u001b[0;34m)\u001b[0m\u001b[0;34m:\u001b[0m\u001b[0;34m\u001b[0m\u001b[0;34m\u001b[0m\u001b[0m\n\u001b[1;32m   3460\u001b[0m                 \u001b[0mindexer\u001b[0m \u001b[0;34m=\u001b[0m \u001b[0;34m[\u001b[0m\u001b[0mindexer\u001b[0m\u001b[0;34m]\u001b[0m\u001b[0;34m\u001b[0m\u001b[0;34m\u001b[0m\u001b[0m\n",
      "\u001b[0;32m~/opt/anaconda3/lib/python3.9/site-packages/pandas/core/indexes/base.py\u001b[0m in \u001b[0;36mget_loc\u001b[0;34m(self, key, method, tolerance)\u001b[0m\n\u001b[1;32m   3361\u001b[0m                 \u001b[0;32mreturn\u001b[0m \u001b[0mself\u001b[0m\u001b[0;34m.\u001b[0m\u001b[0m_engine\u001b[0m\u001b[0;34m.\u001b[0m\u001b[0mget_loc\u001b[0m\u001b[0;34m(\u001b[0m\u001b[0mcasted_key\u001b[0m\u001b[0;34m)\u001b[0m\u001b[0;34m\u001b[0m\u001b[0;34m\u001b[0m\u001b[0m\n\u001b[1;32m   3362\u001b[0m             \u001b[0;32mexcept\u001b[0m \u001b[0mKeyError\u001b[0m \u001b[0;32mas\u001b[0m \u001b[0merr\u001b[0m\u001b[0;34m:\u001b[0m\u001b[0;34m\u001b[0m\u001b[0;34m\u001b[0m\u001b[0m\n\u001b[0;32m-> 3363\u001b[0;31m                 \u001b[0;32mraise\u001b[0m \u001b[0mKeyError\u001b[0m\u001b[0;34m(\u001b[0m\u001b[0mkey\u001b[0m\u001b[0;34m)\u001b[0m \u001b[0;32mfrom\u001b[0m \u001b[0merr\u001b[0m\u001b[0;34m\u001b[0m\u001b[0;34m\u001b[0m\u001b[0m\n\u001b[0m\u001b[1;32m   3364\u001b[0m \u001b[0;34m\u001b[0m\u001b[0m\n\u001b[1;32m   3365\u001b[0m         \u001b[0;32mif\u001b[0m \u001b[0mis_scalar\u001b[0m\u001b[0;34m(\u001b[0m\u001b[0mkey\u001b[0m\u001b[0;34m)\u001b[0m \u001b[0;32mand\u001b[0m \u001b[0misna\u001b[0m\u001b[0;34m(\u001b[0m\u001b[0mkey\u001b[0m\u001b[0;34m)\u001b[0m \u001b[0;32mand\u001b[0m \u001b[0;32mnot\u001b[0m \u001b[0mself\u001b[0m\u001b[0;34m.\u001b[0m\u001b[0mhasnans\u001b[0m\u001b[0;34m:\u001b[0m\u001b[0;34m\u001b[0m\u001b[0;34m\u001b[0m\u001b[0m\n",
      "\u001b[0;31mKeyError\u001b[0m: 'newsgroup'"
     ]
    }
   ],
   "source": [
    "from string import punctuation\n",
    "from stop_words import get_stop_words\n",
    "from pymorphy2 import MorphAnalyzer\n",
    "\n",
    "from collections import Counter\n",
    "\n",
    "\n",
    "class Dataset(torch.utils.data.Dataset):\n",
    "    \n",
    "    \n",
    "    def __init__(self, data_path):\n",
    "        df = parse_directory(data_path)\n",
    "\n",
    "        self.labels_i2w = df['newsgroup'].unique() \n",
    "        self.labels_w2i = dict( (w, i) for i, w in enumerate(self.labels_i2w) )\n",
    "        self.labels = df['newsgroup'].apply(lambda ng: self.labels_w2i[ng]).tolist()\n",
    "        \n",
    "        sw = set(get_stop_words(\"en\"))\n",
    "        exclude = set(punctuation)\n",
    "        morpher = MorphAnalyzer()\n",
    "\n",
    "        def preprocess(txt):\n",
    "            txt = ''.join(c for c in txt if c not in exclude)\n",
    "            txt = txt.lower()\n",
    "            return [morpher.parse(word)[0].normal_form for word in txt.split() if word and word not in sw] # удалить пустые сразу\n",
    "\n",
    "        print('Подготовка текста ...')\n",
    "        texts = [preprocess(txt) for txt in tqdm(df['text'].tolist())]\n",
    "        \n",
    "        print('Преобразование в индексы ...')\n",
    "        words = [w for w, c in Counter(w for txt in texts for w in txt).items() if c > 10]\n",
    "        \n",
    "        self.words_i2w = ['', '__UNK__'] + words\n",
    "        self.words_w2i = w2i = dict( (w, i) for i, w in enumerate(self.words_i2w) )\n",
    "        \n",
    "        max_length = min(max([len(txt) for txt in texts]), 1024)\n",
    "        \n",
    "        self.length = max_length\n",
    "       \n",
    "        texts = [[w2i.get(w, w2i['__UNK__']) for w in txt] for txt in texts]\n",
    "        self.texts = [ torch.tensor(txt[:max_length] + [0] * (max_length - len(txt))) for txt in texts ]\n",
    "\n",
    "        assert(len(self.texts) == len(self.labels))\n",
    "        \n",
    "        print('Dataset подготовлен')\n",
    "        \n",
    "        \n",
    "    def __len__(self):\n",
    "        return len(self.texts)\n",
    "    \n",
    "    def __getitem__(self, idx):\n",
    "        return self.texts[idx], self.labels[idx]\n",
    "\n",
    "ds = Dataset('./20newsgroups')"
   ]
  },
  {
   "cell_type": "code",
   "execution_count": null,
   "id": "750448e9",
   "metadata": {},
   "outputs": [],
   "source": [
    "ds_train, ds_val = train_test_split(ds, test_size=0.1, random_state=7)"
   ]
  },
  {
   "cell_type": "code",
   "execution_count": null,
   "id": "6fb7015e",
   "metadata": {},
   "outputs": [],
   "source": [
    "def evaluate(net, ds):\n",
    "    dl = torch.utils.data.DataLoader(ds, batch_size=128, shuffle=False)\n",
    "    loss = nn.CrossEntropyLoss(reduction='sum')\n",
    "    net.eval()\n",
    "    total_loss = 0\n",
    "    count = 0\n",
    "    matches = 0\n",
    "    for X, y in dl:\n",
    "        count += len(y)\n",
    "        preds = net(X)\n",
    "        total_loss += float(loss(preds, y)) # очень важно преобразовать во float здесь, иначе утекает память !!!\n",
    "        pred_classes = torch.argmax(preds, dim=1)\n",
    "        matches += int(sum(pred_classes == y))\n",
    "    return float(total_loss/count), float(matches/count), count\n",
    "\n",
    "\n",
    "def train_and_test(net, ds_train, ds_val, optimizer_class=torch.optim.Adam, n_epochs=10, lr=0.01, report_on=-1, batch_size=1024):\n",
    "    \n",
    "    print('========================================================')\n",
    "   \n",
    "    params = [ p for p in net.parameters() if p.requires_grad]\n",
    "    print('Число обучаемых параметров', len(params))\n",
    "    optimizer = optimizer_class(params, lr=0.01)\n",
    "    print(' Оптимизатор: ', optimizer)\n",
    "\n",
    "    def print_results():\n",
    "        for title, ds in [\n",
    "#                ('Тренировочный', ds_train), # слишком долго для resnet \n",
    "                ('Валидационный', ds_val)\n",
    "            ]:\n",
    "            r = evaluate(net, ds)\n",
    "            print(f\"    {title} набор: кросс-энтропия: {r[0]:.2f}, доля совпадений: {r[1]*100:.1f}%\")\n",
    "        return r\n",
    "    \n",
    "    print(' До обучения:')\n",
    "    print_results()\n",
    "    \n",
    "    dl_train = torch.utils.data.DataLoader(ds_train, batch_size=batch_size)\n",
    "    criterion = nn.CrossEntropyLoss()    \n",
    "\n",
    "    net.train()\n",
    "    report_on = max(len(dl_train) if report_on == -1 else report_on, 1)\n",
    "    for epoch in range(n_epochs):\n",
    "        print('--------- Эпоха ', epoch, '/', n_epochs, ' ------------------')\n",
    "        running_loss = 0.0\n",
    "        for i, data in enumerate(tqdm(dl_train)):\n",
    "            inputs, labels = data[0], data[1]\n",
    "\n",
    "            # обнуляем градиент\n",
    "            optimizer.zero_grad()\n",
    "\n",
    "            outputs = net(inputs)\n",
    "            loss = criterion(outputs, labels)\n",
    "            loss.backward()\n",
    "            optimizer.step()\n",
    "\n",
    "            # выводим статистику о процессе обучения\n",
    "            running_loss += loss.item()\n",
    "            if (i+1) % report_on == 0:    # печатаем каждые report_on mini-batches\n",
    "                print('Выучено батчей : %5d; loss: %.3f' % (i + 1, running_loss / report_on))\n",
    "                running_loss = 0.0\n",
    "                \n",
    "    print(' Обучение закончено!')\n",
    "    print(' После обучения:')\n",
    "    return print_results()"
   ]
  },
  {
   "cell_type": "code",
   "execution_count": null,
   "id": "f534b5ca",
   "metadata": {},
   "outputs": [],
   "source": [
    "class Net(nn.Module):\n",
    "    def __init__(self, num_classes, vocab_size, embedding_dim = 128, linear_dim = 256, kernel_size=3):\n",
    "        super().__init__()\n",
    "        self.embedding = nn.Embedding(vocab_size, embedding_dim, padding_idx=0)\n",
    "        self.conv = nn.Conv1d(embedding_dim, linear_dim, kernel_size=kernel_size)\n",
    "        self.relu = nn.ReLU()\n",
    "        self.linear = nn.Linear(linear_dim, num_classes)\n",
    "        \n",
    "    def forward(self, x):        \n",
    "        output = self.embedding(x)\n",
    "        #                       B  F  L         \n",
    "        output = output.permute(0, 2, 1)\n",
    "        output = self.conv(output)\n",
    "        output = self.relu(output)\n",
    "        output = torch.max(output, axis=2).values\n",
    "        output = self.linear(output)\n",
    "        \n",
    "        return output"
   ]
  },
  {
   "cell_type": "code",
   "execution_count": null,
   "id": "80d091ee",
   "metadata": {},
   "outputs": [],
   "source": [
    "net = Net(20, len(ds.words_i2w))\n",
    "\n",
    "train_and_test(net, ds_train, ds_val)"
   ]
  },
  {
   "cell_type": "code",
   "execution_count": null,
   "id": "b769b7c7",
   "metadata": {},
   "outputs": [],
   "source": [
    "# сохранение обученного net, остальное в цикле ниже\n",
    "\n",
    "results = [{ 'embedding_dim': 128, 'linear_dim': 256, 'kernel_size': 3, 'net': net, 'result': evaluate(net, ds_val) }] "
   ]
  },
  {
   "cell_type": "code",
   "execution_count": null,
   "id": "e385902f",
   "metadata": {},
   "outputs": [],
   "source": [
    "def create_and_test(embedding_dim=128, linear_dim=256, kernel_size=3):\n",
    "    print('########################################################################')\n",
    "    print(f\"embedding_dim = {embedding_dim}, linear_dim = {linear_dim}, kernel_size = {kernel_size}\")\n",
    "    net = Net(20, len(ds.words_i2w), kernel_size=2)\n",
    "    r = train_and_test(net, ds_train, ds_val)\n",
    "    results.append({ 'embedding_dim': embedding_dim, 'linear_dim': linear_dim, 'kernel_size': kernel_size, 'net': net, 'result': r })    \n",
    "    \n",
    "    \n",
    "for kernel_size in [2, 5, 7]:\n",
    "    create_and_test(kernel_size=kernel_size)\n",
    "\n",
    "for linear_dim in [128, 256, 512]:\n",
    "    create_and_test(linear_dim=linear_dim)\n",
    "\n",
    "for embedding_dim in [ 64, 256 ]:\n",
    "    create_and_test(embedding_dim=embedding_dim)"
   ]
  },
  {
   "cell_type": "code",
   "execution_count": null,
   "id": "69c9fc8f",
   "metadata": {},
   "outputs": [],
   "source": [
    "for r in tqdm(results): # ошибка в train_and_test была исправлена позже, результат не возвращался\n",
    "    r['result'] = evaluate(r['net'], ds_val)\n",
    "\n",
    "pd.DataFrame(results)"
   ]
  },
  {
   "cell_type": "code",
   "execution_count": null,
   "id": "d83e1854",
   "metadata": {},
   "outputs": [],
   "source": [
    "create_and_test(embedding_dim=64, linear_dim=256, kernel_size=2)"
   ]
  },
  {
   "cell_type": "code",
   "execution_count": null,
   "id": "6792abf8",
   "metadata": {},
   "outputs": [],
   "source": [
    "create_and_test(embedding_dim=64, linear_dim=256, kernel_size=7)"
   ]
  },
  {
   "cell_type": "code",
   "execution_count": null,
   "id": "22243f36",
   "metadata": {},
   "outputs": [],
   "source": [
    "df = pd.DataFrame(results)\n",
    "df['loss'] = df['result'].apply(lambda r: r[0])\n",
    "df['matches'] = df['result'].apply(lambda r: r[1])\n",
    "df"
   ]
  },
  {
   "cell_type": "code",
   "execution_count": null,
   "id": "4b964ee0",
   "metadata": {},
   "outputs": [],
   "source": [
    "df.iloc[df['matches'].idxmax()]"
   ]
  }
 ],
 "metadata": {
  "kernelspec": {
   "display_name": "Python 3 (ipykernel)",
   "language": "python",
   "name": "python3"
  },
  "language_info": {
   "codemirror_mode": {
    "name": "ipython",
    "version": 3
   },
   "file_extension": ".py",
   "mimetype": "text/x-python",
   "name": "python",
   "nbconvert_exporter": "python",
   "pygments_lexer": "ipython3",
   "version": "3.9.7"
  }
 },
 "nbformat": 4,
 "nbformat_minor": 5
}
